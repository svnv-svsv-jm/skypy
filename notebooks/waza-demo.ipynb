{
 "cells": [
  {
   "cell_type": "code",
   "execution_count": 1,
   "metadata": {},
   "outputs": [],
   "source": [
    "%load_ext autoreload\n",
    "%autoreload 2"
   ]
  },
  {
   "cell_type": "code",
   "execution_count": 2,
   "metadata": {},
   "outputs": [
    {
     "name": "stderr",
     "output_type": "stream",
     "text": [
      "INFO | nb_init | Set current dir to sky-py\n",
      "INFO | nb_init | You are using Python 3.10.10 (main, Sep 14 2023, 16:59:47) [Clang 14.0.3 (clang-1403.0.22.14.1)]\n"
     ]
    }
   ],
   "source": [
    "from skypy.utils.nb import nb_init, pretty_waza\n",
    "nb_init()"
   ]
  },
  {
   "cell_type": "code",
   "execution_count": 3,
   "metadata": {},
   "outputs": [],
   "source": [
    "import os\n",
    "import pandas as pd\n",
    "import numpy as np\n",
    "\n",
    "from skypy.ops import get_pokemon, add_move, get_learnset, read_data, resume_pokemon, write_df_to_json, set_pokemon, resume_waza, read_waza\n",
    "from skypy.const.pkmn import POKEMON\n",
    "from skypy.const.waza import MOVES\n",
    "from skypy.const.types import TYPES"
   ]
  },
  {
   "cell_type": "code",
   "execution_count": 4,
   "metadata": {},
   "outputs": [],
   "source": [
    "waza = read_waza()"
   ]
  },
  {
   "cell_type": "code",
   "execution_count": 5,
   "metadata": {},
   "outputs": [
    {
     "data": {
      "text/html": [
       "<div>\n",
       "<style scoped>\n",
       "    .dataframe tbody tr th:only-of-type {\n",
       "        vertical-align: middle;\n",
       "    }\n",
       "\n",
       "    .dataframe tbody tr th {\n",
       "        vertical-align: top;\n",
       "    }\n",
       "\n",
       "    .dataframe thead th {\n",
       "        text-align: right;\n",
       "    }\n",
       "</style>\n",
       "<table border=\"1\" class=\"dataframe\">\n",
       "  <thead>\n",
       "    <tr style=\"text-align: right;\">\n",
       "      <th></th>\n",
       "      <th>move_id</th>\n",
       "      <th>can_use_move</th>\n",
       "      <th>type</th>\n",
       "      <th>quality</th>\n",
       "      <th>category</th>\n",
       "      <th>power</th>\n",
       "      <th>accuracy</th>\n",
       "      <th>pp</th>\n",
       "      <th>priority</th>\n",
       "      <th>hit_max</th>\n",
       "      <th>...</th>\n",
       "      <th>inflict.turn3</th>\n",
       "      <th>stat_amps.fstat1</th>\n",
       "      <th>stat_amps.fstat2</th>\n",
       "      <th>stat_amps.fstat3</th>\n",
       "      <th>stat_amps.fstat1_stage</th>\n",
       "      <th>stat_amps.fstat2_state</th>\n",
       "      <th>stat_amps.fstat3_stage</th>\n",
       "      <th>stat_amps.fstat1_percent</th>\n",
       "      <th>stat_amps.fstat2_percent</th>\n",
       "      <th>stat_amps.fstat3_percent</th>\n",
       "    </tr>\n",
       "  </thead>\n",
       "  <tbody>\n",
       "    <tr>\n",
       "      <th>0</th>\n",
       "      <td>WAZA_NULL</td>\n",
       "      <td>True</td>\n",
       "      <td>0</td>\n",
       "      <td>0</td>\n",
       "      <td>1</td>\n",
       "      <td>40</td>\n",
       "      <td>100</td>\n",
       "      <td>35</td>\n",
       "      <td>0</td>\n",
       "      <td>0</td>\n",
       "      <td>...</td>\n",
       "      <td>0</td>\n",
       "      <td>0</td>\n",
       "      <td>0</td>\n",
       "      <td>0</td>\n",
       "      <td>0</td>\n",
       "      <td>0</td>\n",
       "      <td>0</td>\n",
       "      <td>0</td>\n",
       "      <td>0</td>\n",
       "      <td>0</td>\n",
       "    </tr>\n",
       "    <tr>\n",
       "      <th>1</th>\n",
       "      <td>WAZA_HATAKU</td>\n",
       "      <td>True</td>\n",
       "      <td>0</td>\n",
       "      <td>0</td>\n",
       "      <td>1</td>\n",
       "      <td>40</td>\n",
       "      <td>100</td>\n",
       "      <td>35</td>\n",
       "      <td>0</td>\n",
       "      <td>0</td>\n",
       "      <td>...</td>\n",
       "      <td>0</td>\n",
       "      <td>0</td>\n",
       "      <td>0</td>\n",
       "      <td>0</td>\n",
       "      <td>0</td>\n",
       "      <td>0</td>\n",
       "      <td>0</td>\n",
       "      <td>0</td>\n",
       "      <td>0</td>\n",
       "      <td>0</td>\n",
       "    </tr>\n",
       "    <tr>\n",
       "      <th>2</th>\n",
       "      <td>WAZA_KARATETYOPPU</td>\n",
       "      <td>False</td>\n",
       "      <td>1</td>\n",
       "      <td>0</td>\n",
       "      <td>1</td>\n",
       "      <td>50</td>\n",
       "      <td>100</td>\n",
       "      <td>25</td>\n",
       "      <td>0</td>\n",
       "      <td>0</td>\n",
       "      <td>...</td>\n",
       "      <td>0</td>\n",
       "      <td>0</td>\n",
       "      <td>0</td>\n",
       "      <td>0</td>\n",
       "      <td>0</td>\n",
       "      <td>0</td>\n",
       "      <td>0</td>\n",
       "      <td>0</td>\n",
       "      <td>0</td>\n",
       "      <td>0</td>\n",
       "    </tr>\n",
       "    <tr>\n",
       "      <th>3</th>\n",
       "      <td>WAZA_OUHUKUBINTA</td>\n",
       "      <td>False</td>\n",
       "      <td>0</td>\n",
       "      <td>0</td>\n",
       "      <td>1</td>\n",
       "      <td>15</td>\n",
       "      <td>85</td>\n",
       "      <td>10</td>\n",
       "      <td>0</td>\n",
       "      <td>5</td>\n",
       "      <td>...</td>\n",
       "      <td>0</td>\n",
       "      <td>0</td>\n",
       "      <td>0</td>\n",
       "      <td>0</td>\n",
       "      <td>0</td>\n",
       "      <td>0</td>\n",
       "      <td>0</td>\n",
       "      <td>0</td>\n",
       "      <td>0</td>\n",
       "      <td>0</td>\n",
       "    </tr>\n",
       "    <tr>\n",
       "      <th>4</th>\n",
       "      <td>WAZA_RENZOKUPANTI</td>\n",
       "      <td>False</td>\n",
       "      <td>0</td>\n",
       "      <td>0</td>\n",
       "      <td>1</td>\n",
       "      <td>18</td>\n",
       "      <td>85</td>\n",
       "      <td>15</td>\n",
       "      <td>0</td>\n",
       "      <td>5</td>\n",
       "      <td>...</td>\n",
       "      <td>0</td>\n",
       "      <td>0</td>\n",
       "      <td>0</td>\n",
       "      <td>0</td>\n",
       "      <td>0</td>\n",
       "      <td>0</td>\n",
       "      <td>0</td>\n",
       "      <td>0</td>\n",
       "      <td>0</td>\n",
       "      <td>0</td>\n",
       "    </tr>\n",
       "  </tbody>\n",
       "</table>\n",
       "<p>5 rows × 84 columns</p>\n",
       "</div>"
      ],
      "text/plain": [
       "             move_id  can_use_move  type  quality  category  power  accuracy  \\\n",
       "0          WAZA_NULL          True     0        0         1     40       100   \n",
       "1        WAZA_HATAKU          True     0        0         1     40       100   \n",
       "2  WAZA_KARATETYOPPU         False     1        0         1     50       100   \n",
       "3   WAZA_OUHUKUBINTA         False     0        0         1     15        85   \n",
       "4  WAZA_RENZOKUPANTI         False     0        0         1     18        85   \n",
       "\n",
       "   pp  priority  hit_max  ...  inflict.turn3  stat_amps.fstat1  \\\n",
       "0  35         0        0  ...              0                 0   \n",
       "1  35         0        0  ...              0                 0   \n",
       "2  25         0        0  ...              0                 0   \n",
       "3  10         0        5  ...              0                 0   \n",
       "4  15         0        5  ...              0                 0   \n",
       "\n",
       "   stat_amps.fstat2  stat_amps.fstat3  stat_amps.fstat1_stage  \\\n",
       "0                 0                 0                       0   \n",
       "1                 0                 0                       0   \n",
       "2                 0                 0                       0   \n",
       "3                 0                 0                       0   \n",
       "4                 0                 0                       0   \n",
       "\n",
       "   stat_amps.fstat2_state  stat_amps.fstat3_stage stat_amps.fstat1_percent  \\\n",
       "0                       0                       0                        0   \n",
       "1                       0                       0                        0   \n",
       "2                       0                       0                        0   \n",
       "3                       0                       0                        0   \n",
       "4                       0                       0                        0   \n",
       "\n",
       "   stat_amps.fstat2_percent  stat_amps.fstat3_percent  \n",
       "0                         0                         0  \n",
       "1                         0                         0  \n",
       "2                         0                         0  \n",
       "3                         0                         0  \n",
       "4                         0                         0  \n",
       "\n",
       "[5 rows x 84 columns]"
      ]
     },
     "execution_count": 5,
     "metadata": {},
     "output_type": "execute_result"
    }
   ],
   "source": [
    "waza.head()"
   ]
  },
  {
   "cell_type": "code",
   "execution_count": 6,
   "metadata": {},
   "outputs": [
    {
     "data": {
      "text/plain": [
       "(920, 84)"
      ]
     },
     "execution_count": 6,
     "metadata": {},
     "output_type": "execute_result"
    }
   ],
   "source": [
    "waza.shape"
   ]
  },
  {
   "cell_type": "code",
   "execution_count": 7,
   "metadata": {},
   "outputs": [
    {
     "data": {
      "text/plain": [
       "698"
      ]
     },
     "execution_count": 7,
     "metadata": {},
     "output_type": "execute_result"
    }
   ],
   "source": [
    "waza[\"can_use_move\"].sum()"
   ]
  },
  {
   "cell_type": "code",
   "execution_count": 8,
   "metadata": {},
   "outputs": [
    {
     "data": {
      "text/plain": [
       "array([ 0,  4,  9,  2, 12,  1, 13,  6, 11,  8,  3, 10,  5,  7])"
      ]
     },
     "execution_count": 8,
     "metadata": {},
     "output_type": "execute_result"
    }
   ],
   "source": [
    "waza[\"quality\"].unique()"
   ]
  },
  {
   "cell_type": "code",
   "execution_count": 9,
   "metadata": {},
   "outputs": [
    {
     "data": {
      "text/plain": [
       "14"
      ]
     },
     "execution_count": 9,
     "metadata": {},
     "output_type": "execute_result"
    }
   ],
   "source": [
    "len(waza[\"quality\"].unique())"
   ]
  },
  {
   "cell_type": "code",
   "execution_count": 10,
   "metadata": {},
   "outputs": [
    {
     "data": {
      "text/html": [
       "<div>\n",
       "<style scoped>\n",
       "    .dataframe tbody tr th:only-of-type {\n",
       "        vertical-align: middle;\n",
       "    }\n",
       "\n",
       "    .dataframe tbody tr th {\n",
       "        vertical-align: top;\n",
       "    }\n",
       "\n",
       "    .dataframe thead th {\n",
       "        text-align: right;\n",
       "    }\n",
       "</style>\n",
       "<table border=\"1\" class=\"dataframe\">\n",
       "  <thead>\n",
       "    <tr style=\"text-align: right;\">\n",
       "      <th></th>\n",
       "      <th>inflict.value</th>\n",
       "      <th>inflict.turn1</th>\n",
       "      <th>inflict.turn2</th>\n",
       "      <th>inflict.turn3</th>\n",
       "      <th>name</th>\n",
       "    </tr>\n",
       "  </thead>\n",
       "  <tbody>\n",
       "    <tr>\n",
       "      <th>8</th>\n",
       "      <td>3</td>\n",
       "      <td>1</td>\n",
       "      <td>0</td>\n",
       "      <td>0</td>\n",
       "      <td>Ice Punch</td>\n",
       "    </tr>\n",
       "    <tr>\n",
       "      <th>58</th>\n",
       "      <td>3</td>\n",
       "      <td>1</td>\n",
       "      <td>0</td>\n",
       "      <td>0</td>\n",
       "      <td>Ice Beam</td>\n",
       "    </tr>\n",
       "    <tr>\n",
       "      <th>59</th>\n",
       "      <td>3</td>\n",
       "      <td>1</td>\n",
       "      <td>0</td>\n",
       "      <td>0</td>\n",
       "      <td>Blizzard</td>\n",
       "    </tr>\n",
       "    <tr>\n",
       "      <th>181</th>\n",
       "      <td>3</td>\n",
       "      <td>1</td>\n",
       "      <td>0</td>\n",
       "      <td>0</td>\n",
       "      <td>Powder Snow</td>\n",
       "    </tr>\n",
       "    <tr>\n",
       "      <th>423</th>\n",
       "      <td>3</td>\n",
       "      <td>1</td>\n",
       "      <td>0</td>\n",
       "      <td>0</td>\n",
       "      <td>Ice Fang</td>\n",
       "    </tr>\n",
       "    <tr>\n",
       "      <th>573</th>\n",
       "      <td>3</td>\n",
       "      <td>1</td>\n",
       "      <td>0</td>\n",
       "      <td>0</td>\n",
       "      <td>Freeze-Dry</td>\n",
       "    </tr>\n",
       "    <tr>\n",
       "      <th>821</th>\n",
       "      <td>3</td>\n",
       "      <td>1</td>\n",
       "      <td>0</td>\n",
       "      <td>0</td>\n",
       "      <td>Freezing Glare</td>\n",
       "    </tr>\n",
       "  </tbody>\n",
       "</table>\n",
       "</div>"
      ],
      "text/plain": [
       "     inflict.value  inflict.turn1  inflict.turn2  inflict.turn3  \\\n",
       "8                3              1              0              0   \n",
       "58               3              1              0              0   \n",
       "59               3              1              0              0   \n",
       "181              3              1              0              0   \n",
       "423              3              1              0              0   \n",
       "573              3              1              0              0   \n",
       "821              3              1              0              0   \n",
       "\n",
       "               name  \n",
       "8         Ice Punch  \n",
       "58         Ice Beam  \n",
       "59         Blizzard  \n",
       "181     Powder Snow  \n",
       "423        Ice Fang  \n",
       "573      Freeze-Dry  \n",
       "821  Freezing Glare  "
      ]
     },
     "execution_count": 10,
     "metadata": {},
     "output_type": "execute_result"
    }
   ],
   "source": [
    "idx = (waza[\"inflict.value\"] == 3) #* (waza[\"inflict.turn2\"] > 0)\n",
    "tmp = waza.loc[idx, :][['inflict.value', 'inflict.turn1', 'inflict.turn2', 'inflict.turn3']]\n",
    "tmp['name'] = pd.Series(MOVES)[idx]\n",
    "tmp"
   ]
  },
  {
   "cell_type": "code",
   "execution_count": 11,
   "metadata": {},
   "outputs": [
    {
     "data": {
      "text/plain": [
       "{'move_id': {529: 'WAZA_DORIRURAINAA'},\n",
       " 'can_use_move': {529: True},\n",
       " 'type': {529: 'Ground'},\n",
       " 'quality': {529: 0},\n",
       " 'category': {529: 1},\n",
       " 'power': {529: 80},\n",
       " 'accuracy': {529: 100},\n",
       " 'pp': {529: 10},\n",
       " 'priority': {529: 0},\n",
       " 'hit_max': {529: 0},\n",
       " 'hit_min': {529: 0},\n",
       " 'crit_stage': {529: 1},\n",
       " 'flinch': {529: 0},\n",
       " 'effect_sequence': {529: 43},\n",
       " 'recoil': {529: 0},\n",
       " 'raw_healing': {529: 0},\n",
       " 'raw_target': {529: 0},\n",
       " 'affinity': {529: 'Attack'},\n",
       " 'flag_makes_contact': {529: True},\n",
       " 'flag_charge': {529: False},\n",
       " 'flag_rechargeg': {529: False},\n",
       " 'flag_protect': {529: True},\n",
       " 'flag_reflectable': {529: False},\n",
       " 'flag_snatch': {529: False},\n",
       " 'flag_mirror': {529: True},\n",
       " 'flag_punch': {529: False},\n",
       " 'flag_sound': {529: False},\n",
       " 'flag_dance': {529: False},\n",
       " 'flag_gravity': {529: False},\n",
       " 'flag_defrost': {529: False},\n",
       " 'flag_distance_triple': {529: False},\n",
       " 'flag_heal': {529: False},\n",
       " 'flag_ignore_substitute': {529: False},\n",
       " 'flag_fail_sky_battle': {529: False},\n",
       " 'flag_animate_ally': {529: False},\n",
       " 'flag_metronome': {529: True},\n",
       " 'flag_fail_encore': {529: False},\n",
       " 'flag_fail_me_first': {529: False},\n",
       " 'flag_future_attack': {529: False},\n",
       " 'flag_pressure': {529: False},\n",
       " 'flag_combo': {529: False},\n",
       " 'flag_no_sleep_talk': {529: False},\n",
       " 'flag_no_assist': {529: False},\n",
       " 'flag_fail_copy_cat': {529: False},\n",
       " 'flag_fail_mimic': {529: False},\n",
       " 'flag_fail_instruct': {529: False},\n",
       " 'flag_powder': {529: False},\n",
       " 'flag_bite': {529: False},\n",
       " 'flag_bullet': {529: False},\n",
       " 'flag_no_multi_hit': {529: False},\n",
       " 'flag_no_effectiveness': {529: False},\n",
       " 'flag_sheer_force': {529: False},\n",
       " 'flag_slicing': {529: False},\n",
       " 'flag_wind': {529: False},\n",
       " 'unknown56': {529: False},\n",
       " 'unknown57': {529: False},\n",
       " 'unknown58': {529: False},\n",
       " 'unknown59': {529: False},\n",
       " 'unknown60': {529: False},\n",
       " 'unused61': {529: False},\n",
       " 'unused62': {529: False},\n",
       " 'unused63': {529: False},\n",
       " 'unused64': {529: False},\n",
       " 'unused65': {529: False},\n",
       " 'unused66': {529: False},\n",
       " 'unused67': {529: False},\n",
       " 'unused68': {529: False},\n",
       " 'unused69': {529: False},\n",
       " 'unused70': {529: False},\n",
       " 'flag_cant_use_twice': {529: False},\n",
       " 'inflict.value': {529: 0},\n",
       " 'inflict.chance': {529: 0},\n",
       " 'inflict.turn1': {529: 0},\n",
       " 'inflict.turn2': {529: 0},\n",
       " 'inflict.turn3': {529: 0},\n",
       " 'stat_amps.fstat1': {529: 0},\n",
       " 'stat_amps.fstat2': {529: 0},\n",
       " 'stat_amps.fstat3': {529: 0},\n",
       " 'stat_amps.fstat1_stage': {529: 0},\n",
       " 'stat_amps.fstat2_state': {529: 0},\n",
       " 'stat_amps.fstat3_stage': {529: 0},\n",
       " 'stat_amps.fstat1_percent': {529: 0},\n",
       " 'stat_amps.fstat2_percent': {529: 0},\n",
       " 'stat_amps.fstat3_percent': {529: 0},\n",
       " 'name': {529: 'drill run'}}"
      ]
     },
     "execution_count": 11,
     "metadata": {},
     "output_type": "execute_result"
    }
   ],
   "source": [
    "resume_waza(waza, \"drill run\").to_dict()"
   ]
  },
  {
   "cell_type": "code",
   "execution_count": 12,
   "metadata": {},
   "outputs": [],
   "source": [
    "waza_pretty = pretty_waza(waza)"
   ]
  },
  {
   "cell_type": "code",
   "execution_count": 13,
   "metadata": {},
   "outputs": [],
   "source": [
    "waza_pretty.to_excel('text.xlsx')"
   ]
  },
  {
   "cell_type": "code",
   "execution_count": null,
   "metadata": {},
   "outputs": [],
   "source": []
  }
 ],
 "metadata": {
  "kernelspec": {
   "display_name": "Python 3",
   "language": "python",
   "name": "python3"
  },
  "language_info": {
   "codemirror_mode": {
    "name": "ipython",
    "version": 3
   },
   "file_extension": ".py",
   "mimetype": "text/x-python",
   "name": "python",
   "nbconvert_exporter": "python",
   "pygments_lexer": "ipython3",
   "version": "3.10.10"
  }
 },
 "nbformat": 4,
 "nbformat_minor": 2
}
