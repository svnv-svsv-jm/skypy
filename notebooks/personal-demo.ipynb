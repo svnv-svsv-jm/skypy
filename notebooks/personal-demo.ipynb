{
 "cells": [
  {
   "cell_type": "markdown",
   "metadata": {},
   "source": [
    "# SkyPy\n",
    "\n",
    "Pokemon editor in Scarlet and Violet."
   ]
  },
  {
   "cell_type": "code",
   "execution_count": 13,
   "metadata": {},
   "outputs": [
    {
     "name": "stdout",
     "output_type": "stream",
     "text": [
      "The autoreload extension is already loaded. To reload it, use:\n",
      "  %reload_ext autoreload\n"
     ]
    }
   ],
   "source": [
    "%load_ext autoreload\n",
    "%autoreload 2"
   ]
  },
  {
   "cell_type": "code",
   "execution_count": 14,
   "metadata": {},
   "outputs": [
    {
     "name": "stderr",
     "output_type": "stream",
     "text": [
      "INFO | nb_init | Set current dir to sky-py\n",
      "INFO | nb_init | You are using Python 3.10.10 (main, Sep 14 2023, 16:59:47) [Clang 14.0.3 (clang-1403.0.22.14.1)]\n"
     ]
    }
   ],
   "source": [
    "from skypy.utils.nb import nb_init\n",
    "\n",
    "nb_init()"
   ]
  },
  {
   "cell_type": "markdown",
   "metadata": {},
   "source": [
    "## Imports"
   ]
  },
  {
   "cell_type": "code",
   "execution_count": 15,
   "metadata": {},
   "outputs": [],
   "source": [
    "import os\n",
    "\n",
    "from skypy.ops import get_pokemon, add_move, get_learnset, read_data, resume_pokemon, write_df_to_json, set_pokemon\n",
    "from skypy.const import POKEMON"
   ]
  },
  {
   "cell_type": "markdown",
   "metadata": {},
   "source": [
    "## Pokemon SV: database\n",
    "\n",
    "Import data.\n",
    "\n",
    "This will be loaded from the source code the first time. Once you're done editing, you can save your modifications. The `output/` folder will contain the `.json` file with your modifications. The next time you load the data, this `.json` file in the `output/` folder will be loaded instead. If it doesn't exist (you delete it), the one in the source code is reloaded."
   ]
  },
  {
   "cell_type": "code",
   "execution_count": 16,
   "metadata": {},
   "outputs": [
    {
     "data": {
      "text/plain": [
       "[{'level': 16,\n",
       "  'condition': 4,\n",
       "  'parameter': 0,\n",
       "  'reserved3': 0,\n",
       "  'reserved4': 0,\n",
       "  'reserved5': 0,\n",
       "  'species': 2,\n",
       "  'form': 0}]"
      ]
     },
     "execution_count": 16,
     "metadata": {},
     "output_type": "execute_result"
    }
   ],
   "source": [
    "df = read_data()\n",
    "df.head(5)\n",
    "df[\"evo_data\"].loc[1]"
   ]
  },
  {
   "cell_type": "markdown",
   "metadata": {},
   "source": [
    "Show a Pokemon's data."
   ]
  },
  {
   "cell_type": "code",
   "execution_count": 25,
   "metadata": {},
   "outputs": [],
   "source": [
    "pokemon = 'salamence'"
   ]
  },
  {
   "cell_type": "code",
   "execution_count": 26,
   "metadata": {},
   "outputs": [],
   "source": [
    "get_learnset(df, pokemon, readable=True)"
   ]
  },
  {
   "cell_type": "code",
   "execution_count": 27,
   "metadata": {},
   "outputs": [
    {
     "data": {
      "text/plain": [
       "{'ID': 493,\n",
       " 'name': 'Salamence',\n",
       " 'type': ['Dragon', 'Flying'],\n",
       " 'abilities': ['Intimidate', 'Intimidate', 'Moxie'],\n",
       " 'base_stats.HP': 95,\n",
       " 'base_stats.ATK': 115,\n",
       " 'base_stats.DEF': 80,\n",
       " 'base_stats.SPA': 110,\n",
       " 'base_stats.SPD': 80,\n",
       " 'base_stats.SPE': 120,\n",
       " 'base_stats.TOT': 600}"
      ]
     },
     "execution_count": 27,
     "metadata": {},
     "output_type": "execute_result"
    }
   ],
   "source": [
    "resume_pokemon(df, pokemon)"
   ]
  },
  {
   "cell_type": "markdown",
   "metadata": {},
   "source": [
    "## Change\n",
    "\n",
    "Change Pokemon stats, abilities, etc."
   ]
  },
  {
   "cell_type": "code",
   "execution_count": 20,
   "metadata": {},
   "outputs": [
    {
     "data": {
      "text/plain": [
       "540"
      ]
     },
     "execution_count": 20,
     "metadata": {},
     "output_type": "execute_result"
    }
   ],
   "source": [
    "stats={\n",
    "'base_stats.HP': 72,\n",
    " 'base_stats.ATK': 75,\n",
    " 'base_stats.DEF': 67,\n",
    " 'base_stats.SPA': 123,\n",
    " 'base_stats.SPD': 71,\n",
    " 'base_stats.SPE': 132,\n",
    "}\n",
    "sum(list(stats.values()))"
   ]
  },
  {
   "cell_type": "code",
   "execution_count": 21,
   "metadata": {},
   "outputs": [],
   "source": [
    "df = set_pokemon(df, pokemon,\n",
    "    ability=['levitate', 'levitate', 'levitate'],\n",
    "    stats=stats,\n",
    "    types=['normal', 'normal'],\n",
    ")"
   ]
  },
  {
   "cell_type": "markdown",
   "metadata": {},
   "source": [
    "Let's also add a move to its learnset."
   ]
  },
  {
   "cell_type": "code",
   "execution_count": 22,
   "metadata": {},
   "outputs": [],
   "source": [
    "df = add_move(df, pokemon, {\"level\": 36, \"move\": \"sludge bomb\"})"
   ]
  },
  {
   "cell_type": "code",
   "execution_count": 23,
   "metadata": {},
   "outputs": [],
   "source": [
    "resume_pokemon(df, pokemon)"
   ]
  },
  {
   "cell_type": "markdown",
   "metadata": {},
   "source": [
    "## Save\n",
    "\n",
    "Write to output file. Output will be saved to `output/` folder."
   ]
  },
  {
   "cell_type": "code",
   "execution_count": 24,
   "metadata": {},
   "outputs": [],
   "source": [
    "write_df_to_json(df)"
   ]
  }
 ],
 "metadata": {
  "kernelspec": {
   "display_name": "Python 3",
   "language": "python",
   "name": "python3"
  },
  "language_info": {
   "codemirror_mode": {
    "name": "ipython",
    "version": 3
   },
   "file_extension": ".py",
   "mimetype": "text/x-python",
   "name": "python",
   "nbconvert_exporter": "python",
   "pygments_lexer": "ipython3",
   "version": "3.10.10"
  }
 },
 "nbformat": 4,
 "nbformat_minor": 2
}
